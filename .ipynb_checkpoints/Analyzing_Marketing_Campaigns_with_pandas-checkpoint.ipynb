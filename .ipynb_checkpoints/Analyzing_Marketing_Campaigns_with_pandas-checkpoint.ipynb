{
 "cells": [
  {
   "cell_type": "markdown",
   "metadata": {},
   "source": [
    "## Pandas"
   ]
  },
  {
   "cell_type": "markdown",
   "metadata": {},
   "source": [
    "### Importing the dataset"
   ]
  },
  {
   "cell_type": "code",
   "execution_count": null,
   "metadata": {},
   "outputs": [],
   "source": [
    "# Import pandas into the environment\n",
    "import pandas as pd\n",
    "\n",
    "# Import marketing.csv \n",
    "marketing = pd.read_csv('marketing.csv')\n",
    "\n",
    "# Print the first five rows of the DataFrame\n",
    "print(marketing.head())\n",
    "\n",
    "# Print the statistics of all columns\n",
    "print(marketing.describe())\n",
    "\n",
    "# Check column data types and non-missing values\n",
    "print(marketing.info())\n",
    "\n",
    "# Check the data type of is_retained\n",
    "print(marketing['is_retained'].dtype)\n",
    "\n",
    "# Convert is_retained to a boolean\n",
    "marketing['is_retained'] = marketing['is_retained'].astype('bool')"
   ]
  },
  {
   "cell_type": "markdown",
   "metadata": {},
   "source": [
    "### Adding new columns"
   ]
  },
  {
   "cell_type": "code",
   "execution_count": null,
   "metadata": {},
   "outputs": [],
   "source": [
    "# Mapping for channels\n",
    "channel_dict = {\"House Ads\": 1, \"Instagram\": 2, \n",
    "                \"Facebook\": 3, \"Email\": 4, \"Push\": 5}\n",
    "\n",
    "# Map the channel to a channel code\n",
    "marketing['channel_code'] = marketing['subscribing_channel'].map(channel_dict)\n",
    "\n",
    "# Import numpy\n",
    "import numpy as np\n",
    "\n",
    "# Add the new column is_correct_lang\n",
    "marketing['is_correct_lang'] = np.where(\n",
    "    marketing['language_preferred'] == marketing['language_displayed'], \n",
    "    'Yes', \n",
    "    'No'\n",
    ")"
   ]
  },
  {
   "cell_type": "markdown",
   "metadata": {},
   "source": [
    "### Date columns"
   ]
  },
  {
   "cell_type": "code",
   "execution_count": null,
   "metadata": {},
   "outputs": [],
   "source": [
    "# Import pandas into the environment\n",
    "import pandas as pd\n",
    "\n",
    "# Import marketing.csv with date columns\n",
    "marketing = pd.read_csv('marketing.csv', \n",
    "                        parse_dates = ['date_served', 'date_subscribed', 'date_canceled'])\n",
    "\n",
    "# Add a DoW column\n",
    "marketing['DoW'] = marketing['date_subscribed'].dt.dayofweek"
   ]
  },
  {
   "cell_type": "markdown",
   "metadata": {},
   "source": [
    "### Daily marketing reach by channel"
   ]
  },
  {
   "cell_type": "code",
   "execution_count": null,
   "metadata": {},
   "outputs": [],
   "source": [
    "# Group by date_served and count number of unique user_id's\n",
    "daily_users = marketing.groupby(['date_served'])['user_id'].nunique()\n",
    "\n",
    "# Print head of daily_users\n",
    "print(daily_users.head())"
   ]
  },
  {
   "cell_type": "markdown",
   "metadata": {},
   "source": [
    "### Visualizing daily marketing reach"
   ]
  },
  {
   "cell_type": "code",
   "execution_count": null,
   "metadata": {},
   "outputs": [],
   "source": [
    "# Plot daily_subscribers\n",
    "daily_users.plot()\n",
    "\n",
    "# Include a title and y-axis label\n",
    "plt.title('Daily users')\n",
    "plt.ylabel('Number of users')\n",
    "\n",
    "# Rotate the x-axis labels by 45 degrees\n",
    "plt.xticks(rotation = 45)\n",
    "\n",
    "# Display the plot\n",
    "plt.show()"
   ]
  },
  {
   "cell_type": "markdown",
   "metadata": {},
   "source": [
    "## Exploratory Analysis & Summary Statistics"
   ]
  },
  {
   "cell_type": "markdown",
   "metadata": {},
   "source": [
    "### Calculating conversion rate"
   ]
  },
  {
   "cell_type": "code",
   "execution_count": null,
   "metadata": {},
   "outputs": [],
   "source": [
    "# Calculate the number of people we marketed to\n",
    "total = marketing['user_id'].nunique()\n",
    "\n",
    "# Calculate the number of people who subscribed\n",
    "subscribers = marketing[marketing[\"converted\"] == True]\\\n",
    "                            ['user_id'].nunique()\n",
    "\n",
    "# Calculate the conversion rate\n",
    "conversion_rate = subscribers/total\n",
    "print(round(conversion_rate*100, 2), \"%\")"
   ]
  },
  {
   "cell_type": "markdown",
   "metadata": {},
   "source": [
    "### Calculating retention rate"
   ]
  },
  {
   "cell_type": "code",
   "execution_count": null,
   "metadata": {},
   "outputs": [],
   "source": [
    "# Calculate the number of subscribers\n",
    "total_subscribers = marketing[marketing.converted == True].user_id.nunique()\n",
    "\n",
    "# Calculate the number of people who remained subscribed\n",
    "retained = marketing[marketing.is_retained == True].user_id.nunique()\n",
    "\n",
    "# Calculate the retention rate\n",
    "retention_rate = retained / total_subscribers\n",
    "print(round(retention_rate*100, 2), \"%\")"
   ]
  },
  {
   "cell_type": "markdown",
   "metadata": {},
   "source": [
    "### Comparing language conversion rate (I)"
   ]
  },
  {
   "cell_type": "code",
   "execution_count": null,
   "metadata": {},
   "outputs": [],
   "source": [
    "# Isolate english speakers\n",
    "english_speakers = marketing[marketing['language_displayed'] == 'English']\n",
    "\n",
    "# Calculate the total number of English speaking users\n",
    "total = english_speakers.user_id.nunique()\n",
    "\n",
    "# Calculate the number of English speakers who converted\n",
    "subscribers = english_speakers[english_speakers.converted == True].user_id.nunique()\n",
    "\n",
    "# Calculate conversion rate\n",
    "conversion_rate = subscribers/total\n",
    "print('English speaker conversion rate:', round(conversion_rate*100,2), '%')"
   ]
  },
  {
   "cell_type": "markdown",
   "metadata": {},
   "source": [
    "### Comparing language conversion rate (II)"
   ]
  },
  {
   "cell_type": "code",
   "execution_count": null,
   "metadata": {},
   "outputs": [],
   "source": [
    "# Group by language_displayed and count unique users\n",
    "total = marketing.groupby('language_displayed').user_id.nunique()\n",
    "\n",
    "# Group by language_displayed and sum conversions\n",
    "subscribers = marketing[marketing.converted== True].groupby('language_displayed').user_id.nunique()\n",
    "\n",
    "# Calculate the conversion rate for all languages\n",
    "language_conversion_rate = subscribers / total\n",
    "print(language_conversion_rate)"
   ]
  },
  {
   "cell_type": "markdown",
   "metadata": {},
   "source": [
    "### Aggregating by date"
   ]
  },
  {
   "cell_type": "code",
   "execution_count": null,
   "metadata": {},
   "outputs": [],
   "source": [
    "# Group by date_served and count unique users\n",
    "total = marketing.groupby('date_served').user_id.nunique()\n",
    "\n",
    "# Group by date_served and count unique converted users\n",
    "subscribers = marketing[marketing.converted == True].groupby('date_served').user_id.nunique()\n",
    "\n",
    "# Calculate the conversion rate per day\n",
    "daily_conversion_rate = subscribers/total\n",
    "print(daily_conversion_rate)"
   ]
  },
  {
   "cell_type": "markdown",
   "metadata": {},
   "source": [
    "### Visualize conversion rate by language"
   ]
  },
  {
   "cell_type": "code",
   "execution_count": null,
   "metadata": {},
   "outputs": [],
   "source": [
    "# Create a bar chart using language_conversion_rate DataFrame\n",
    "language_conversion_rate.plot(kind = 'bar')\n",
    "\n",
    "# Add a title and x and y-axis labels\n",
    "plt.title('Conversion rate by Language\\n', size = 16)\n",
    "plt.ylabel('Conversion rate (%)', size = 14)\n",
    "plt.xlabel('Age group', size = 14)\n",
    "\n",
    "# Display the plot\n",
    "plt.show()"
   ]
  },
  {
   "cell_type": "markdown",
   "metadata": {},
   "source": [
    "### Creating daily conversion rate DataFrame"
   ]
  },
  {
   "cell_type": "code",
   "execution_count": null,
   "metadata": {},
   "outputs": [],
   "source": [
    "# Group by date_served and count unique users\n",
    "total = marketing.groupby(['date_served'])['user_id']\\\n",
    "                     .nunique()\n",
    "\n",
    "# Group by date_served and calculate subscribers\n",
    "subscribers = marketing[marketing['converted'] == True]\\\n",
    "                         .groupby(['date_served'])\\\n",
    "                         ['user_id'].nunique()\n",
    "\n",
    "# Calculate the conversion rate for all languages\n",
    "daily_conversion_rate = subscribers/total"
   ]
  },
  {
   "cell_type": "markdown",
   "metadata": {},
   "source": [
    "### Setting up our data to visualize daily conversion"
   ]
  },
  {
   "cell_type": "code",
   "execution_count": null,
   "metadata": {},
   "outputs": [],
   "source": [
    "# Reset index to turn the results into a DataFrame\n",
    "daily_conversion_rate = pd.DataFrame(daily_conversion_rate.reset_index(0))\n",
    "\n",
    "# Rename columns\n",
    "daily_conversion_rate.columns = ['date_served', 'conversion_rate']"
   ]
  },
  {
   "cell_type": "markdown",
   "metadata": {},
   "source": [
    "### Visualize daily conversion rate"
   ]
  },
  {
   "cell_type": "code",
   "execution_count": null,
   "metadata": {},
   "outputs": [],
   "source": [
    "# Create a line chart using daily_conversion_rate DataFrame\n",
    "daily_conversion_rate.plot('date_subscribed', \n",
    "                           'conversion_rate')\n",
    "\n",
    "plt.title('Daily conversion rate\\n', size = 16)\n",
    "plt.ylabel('Conversion rate (%)', size = 14)\n",
    "plt.xlabel('Date', size = 14)\n",
    "\n",
    "# Set the y-axis to begin at 0\n",
    "plt.ylim(0)\n",
    "\n",
    "# Display the plot\n",
    "plt.show()"
   ]
  },
  {
   "cell_type": "markdown",
   "metadata": {},
   "source": [
    "### Marketing channels across age groups"
   ]
  },
  {
   "cell_type": "code",
   "execution_count": null,
   "metadata": {},
   "outputs": [],
   "source": [
    "channel_age = marketing.groupby(['marketing_channel', 'age_group'])\\\n",
    "                                ['user_id'].count()\n",
    "\n",
    "# Unstack channel_age and transform it into a DataFrame\n",
    "channel_age_df = pd.DataFrame(channel_age.unstack(level = 1))\n",
    "\n",
    "# Plot the results\n",
    "channel_age_df.plot(kind = 'bar')\n",
    "plt.title('Marketing channels by age group')\n",
    "plt.xlabel('Age Group')\n",
    "plt.ylabel('Users')\n",
    "# Add a legend to the plot\n",
    "plt.legend(loc = 'upper right', \n",
    "           labels = channel_age_df.columns.values)\n",
    "plt.show()"
   ]
  },
  {
   "cell_type": "markdown",
   "metadata": {},
   "source": [
    "### Grouping and counting by multiple columns"
   ]
  },
  {
   "cell_type": "code",
   "execution_count": null,
   "metadata": {},
   "outputs": [],
   "source": [
    "# Count the subs by subscribing channel and date subscribed\n",
    "retention_total = marketing.groupby(['date_subscribed',\n",
    "                                     'subscribing_channel'])\\\n",
    "                                       ['user_id'].nunique()\n",
    "\n",
    "# Print results\n",
    "print(retention_total.head())"
   ]
  },
  {
   "cell_type": "code",
   "execution_count": null,
   "metadata": {},
   "outputs": [],
   "source": [
    "# Sum the retained subs by subscribing channel and date subscribed\n",
    "retention_subs = marketing[marketing.is_retained == True].groupby(['date_subscribed', \n",
    "                                                                   'subscribing_channel'])['user_id'].nunique()\n",
    "\n",
    "# Print results\n",
    "print(retention_subs.head())"
   ]
  },
  {
   "cell_type": "markdown",
   "metadata": {},
   "source": [
    "### Analyzing retention rates for the campaign"
   ]
  },
  {
   "cell_type": "code",
   "execution_count": null,
   "metadata": {},
   "outputs": [],
   "source": [
    "# Divide retained subscribers by total subscribers\n",
    "retention_rate = retention_subs/retention_total\n",
    "retention_rate_df = pd.DataFrame(retention_rate.unstack(level=1))\n",
    "\n",
    "# Plot retention rate\n",
    "retention_rate_df.plot()\n",
    "\n",
    "# Add a title, x-label, y-label, legend and display the plot\n",
    "plt.title('Retention Rate by Subscribing Channel')\n",
    "plt.xlabel('Date Subscribed')\n",
    "plt.ylabel('Retention Rate (%)')\n",
    "plt.legend(labels = retention_rate_df.columns.values, loc = 'upper right')\n",
    "plt.show()"
   ]
  },
  {
   "cell_type": "markdown",
   "metadata": {},
   "source": [
    "## Conversion Attribution\n"
   ]
  },
  {
   "cell_type": "markdown",
   "metadata": {},
   "source": [
    "### Building a conversion function"
   ]
  },
  {
   "cell_type": "code",
   "execution_count": null,
   "metadata": {},
   "outputs": [],
   "source": [
    "def conversion_rate(dataframe, column_names):\n",
    "    # Total number of converted users\n",
    "    column_conv = dataframe[dataframe.converted == True].groupby(column_names).user_id.nunique()\n",
    "\n",
    "    # Total number users\n",
    "    column_total = dataframe.groupby(column_names).user_id.nunique() \n",
    "    \n",
    "    # Conversion rate \n",
    "    conversion_rate = column_conv/column_total\n",
    "    \n",
    "    # Fill missing values with 0\n",
    "    conversion_rate = conversion_rate.fillna(0)\n",
    "    return conversion_rate"
   ]
  },
  {
   "cell_type": "markdown",
   "metadata": {},
   "source": [
    "### Test and visualize conversion function"
   ]
  },
  {
   "cell_type": "code",
   "execution_count": null,
   "metadata": {},
   "outputs": [],
   "source": [
    "# Calculate conversion rate by age_group\n",
    "age_group_conv = conversion_rate(marketing, ['date_served', 'age_group'])\n",
    "print(age_group_conv)\n",
    "\n",
    "# Unstack and create a DataFrame\n",
    "age_group_df = pd.DataFrame(age_group_conv.unstack(level = 1))\n",
    "\n",
    "# Visualize conversion by age_group\n",
    "age_group_df.plot()\n",
    "plt.title('Conversion rate by age group\\n', size = 16)\n",
    "plt.ylabel('Conversion rate', size = 14)\n",
    "plt.xlabel('Age group', size = 14)\n",
    "plt.show()"
   ]
  },
  {
   "cell_type": "markdown",
   "metadata": {},
   "source": [
    "### Plotting function"
   ]
  },
  {
   "cell_type": "code",
   "execution_count": null,
   "metadata": {},
   "outputs": [],
   "source": [
    "def plotting_conv(dataframe):\n",
    "    for column in dataframe:\n",
    "        # Plot column by dataframe's index\n",
    "        plt.plot(dataframe.index, dataframe[column])\n",
    "        plt.title('Daily ' + str(column) + ' conversion rate\\n', \n",
    "                  size = 16)\n",
    "        plt.ylabel('Conversion rate', size = 14)\n",
    "        plt.xlabel('Date', size = 14)\n",
    "        # Show plot\n",
    "        plt.show()\n",
    "        plt.clf()"
   ]
  },
  {
   "cell_type": "markdown",
   "metadata": {},
   "source": [
    "### Putting it all together"
   ]
  },
  {
   "cell_type": "code",
   "execution_count": null,
   "metadata": {},
   "outputs": [],
   "source": [
    "# Calculate conversion rate by date served and age group\n",
    "age_group_conv = conversion_rate(marketing, \n",
    "                                 ['date_served', 'age_group'])\n",
    "\n",
    "# Unstack age_group_conv and create a DataFrame\n",
    "age_group_df = pd.DataFrame(age_group_conv.unstack(level=1))\n",
    "\n",
    "# Plot the results\n",
    "plotting_conv(age_group_df)"
   ]
  },
  {
   "cell_type": "markdown",
   "metadata": {},
   "source": [
    "### House ads conversion rate"
   ]
  },
  {
   "cell_type": "code",
   "execution_count": null,
   "metadata": {},
   "outputs": [],
   "source": [
    "# Calculate conversion rate by date served and channel\n",
    "daily_conv_channel = conversion_rate(marketing, ['date_served', \n",
    "                                                 'marketing_channel'])\n",
    "\n",
    "# Unstack daily_conv_channel and convert it to a DataFrame\n",
    "daily_conv_channel = pd.DataFrame(daily_conv_channel.unstack(level = 1))\n",
    "\n",
    "# Plot results of daily_conv_channel\n",
    "plotting_conv(daily_conv_channel)"
   ]
  },
  {
   "cell_type": "markdown",
   "metadata": {},
   "source": [
    "### Analyzing House ads conversion rate"
   ]
  },
  {
   "cell_type": "code",
   "execution_count": null,
   "metadata": {},
   "outputs": [],
   "source": [
    "# Add day of week column to channel_marketing\n",
    "marketing['DoW_served'] = marketing['date_served'].dt.dayofweek\n",
    "\n",
    "# Calculate conversion rate by day of week\n",
    "DoW_conversion = conversion_rate(marketing, ['DoW_served', \n",
    "                                             'marketing_channel'])\n",
    "\n",
    "# Unstack channels\n",
    "DoW_df = pd.DataFrame(DoW_conversion.unstack(level=1))\n",
    "\n",
    "# Plot conversion rate by day of week\n",
    "DoW_df.plot()\n",
    "plt.title('Conversion rate by day of week\\n')\n",
    "plt.ylim(0)\n",
    "plt.show()"
   ]
  },
  {
   "cell_type": "markdown",
   "metadata": {},
   "source": [
    "### House ads conversion by language"
   ]
  },
  {
   "cell_type": "code",
   "execution_count": null,
   "metadata": {},
   "outputs": [],
   "source": [
    "# Isolate the rows where marketing channel is House Ads\n",
    "house_ads = marketing[marketing.marketing_channel == 'House Ads']\n",
    "\n",
    "# Calculate conversion by date served, and language displayed\n",
    "conv_lang_channel = conversion_rate(house_ads, ['date_served',  'language_displayed'])\n",
    "\n",
    "# Unstack conv_lang_channel\n",
    "conv_lang_df = pd.DataFrame(conv_lang_channel.unstack(level=1))\n",
    "\n",
    "# Use your plotting function to display results\n",
    "plotting_conv(conv_lang_df)"
   ]
  },
  {
   "cell_type": "markdown",
   "metadata": {},
   "source": [
    "### Creating a DataFrame for house ads"
   ]
  },
  {
   "cell_type": "code",
   "execution_count": null,
   "metadata": {},
   "outputs": [],
   "source": [
    "# Add the new column is_correct_lang\n",
    "house_ads['is_correct_lang'] = np.where(\n",
    "    house_ads['language_preferred'] == house_ads['language_displayed'], \n",
    "    'Yes', \n",
    "    'No')\n",
    "\n",
    "# Groupby date_served and is_correct_lang\n",
    "language_check = house_ads.groupby(['date_served','is_correct_lang'])['is_correct_lang'].count()\n",
    "\n",
    "# Unstack language_check and fill missing values with 0's\n",
    "language_check_df = pd.DataFrame(language_check.unstack(level=1)).fillna(0)\n",
    "\n",
    "# Print results\n",
    "print(language_check_df)"
   ]
  },
  {
   "cell_type": "markdown",
   "metadata": {},
   "source": [
    "### Confirming house ads error"
   ]
  },
  {
   "cell_type": "code",
   "execution_count": null,
   "metadata": {},
   "outputs": [],
   "source": [
    "# Divide the count where language is correct by the row sum\n",
    "language_check_df['pct'] = language_check_df['Yes']/language_check_df.sum(axis=1)\n",
    "\n",
    "# Plot and show your results\n",
    "plt.plot(language_check_df.index.values, language_check_df['pct'])\n",
    "plt.show()"
   ]
  },
  {
   "cell_type": "markdown",
   "metadata": {},
   "source": [
    "### Setting up conversion indexes"
   ]
  },
  {
   "cell_type": "code",
   "execution_count": null,
   "metadata": {},
   "outputs": [],
   "source": [
    "# Calculate pre-error conversion rate\n",
    "house_ads_bug = house_ads[house_ads['date_served'] < '2018-01-11']\n",
    "lang_conv = conversion_rate(house_ads_bug, ['language_displayed'])\n",
    "\n",
    "# Index other language conversion rate against English\n",
    "spanish_index = lang_conv['Spanish']/lang_conv['English']\n",
    "arabic_index = lang_conv['Arabic']/lang_conv['English']\n",
    "german_index = lang_conv['German']/lang_conv['English']\n",
    "\n",
    "print(\"Spanish index:\", spanish_index)\n",
    "print(\"Arabic index:\", arabic_index)\n",
    "print(\"German index:\", german_index)"
   ]
  },
  {
   "cell_type": "markdown",
   "metadata": {},
   "source": [
    "### Analyzing user preferences"
   ]
  },
  {
   "cell_type": "code",
   "execution_count": null,
   "metadata": {},
   "outputs": [],
   "source": [
    "# Group house_ads by date and language\n",
    "converted = house_ads.groupby(['date_served', \n",
    "                          'language_preferred'])\\\n",
    "                        .agg({'user_id':'nunique',\n",
    "                              'converted':'sum'})\n",
    "\n",
    "# Unstack converted\n",
    "converted_df = pd.DataFrame(converted.unstack(level=1))"
   ]
  },
  {
   "cell_type": "markdown",
   "metadata": {},
   "source": [
    "### Creating a DataFrame based on indexes"
   ]
  },
  {
   "cell_type": "code",
   "execution_count": null,
   "metadata": {},
   "outputs": [],
   "source": [
    "# Create English conversion rate column for affected period\n",
    "converted['english_conv_rate'] = converted.loc['2018-01-11':'2018-01-31'][('converted','English')]\n",
    "\n",
    "# Create expected conversion rates for each language\n",
    "converted['expected_spanish_rate'] = converted['english_conv_rate']*spanish_index\n",
    "converted['expected_arabic_rate'] = converted['english_conv_rate']*arabic_index\n",
    "converted['expected_german_rate'] = converted['english_conv_rate']*german_index\n",
    "\n",
    "# Multiply number of users by the expected conversion rate\n",
    "converted['expected_spanish_conv'] = converted['expected_spanish_rate']/100*converted[('user_id','Spanish')]\n",
    "converted['expected_arabic_conv'] = converted['expected_arabic_rate']/100*converted[('user_id','Arabic')]\n",
    "converted['expected_german_conv'] = converted['expected_german_rate']/100*converted[('user_id','German')]"
   ]
  },
  {
   "cell_type": "markdown",
   "metadata": {},
   "source": [
    "### Assessing bug impact"
   ]
  },
  {
   "cell_type": "code",
   "execution_count": null,
   "metadata": {},
   "outputs": [],
   "source": [
    "# Use .loc to slice only the relevant dates\n",
    "converted = converted.loc['2018-01-11': '2018-01-31']\n",
    "\n",
    "# Sum expected subscribers for each language\n",
    "expected_subs = converted['expected_spanish_conv'].sum() + converted['expected_arabic_conv'].sum() + converted['expected_german_conv'].sum()\n",
    "\n",
    "# Calculate how many subscribers we actually got\n",
    "actual_subs = converted['converted', 'Spanish'].sum() +converted['converted', 'Arabic'].sum() + converted['converted', 'German'].sum()\n",
    "\n",
    "# Subtract how many subscribers we got despite the bug\n",
    "lost_subs = expected_subs - actual_subs\n",
    "print(lost_subs)"
   ]
  },
  {
   "cell_type": "markdown",
   "metadata": {},
   "source": [
    "## Personalization A/B Test"
   ]
  },
  {
   "cell_type": "markdown",
   "metadata": {},
   "source": [
    "### Test allocation"
   ]
  },
  {
   "cell_type": "code",
   "execution_count": null,
   "metadata": {},
   "outputs": [],
   "source": [
    "# Subset the DataFrame\n",
    "email = marketing[marketing.marketing_channel ==  'Email']\n",
    "\n",
    "# Group the email DataFrame by variant \n",
    "alloc = email.groupby('variant').user_id.nunique()\n",
    "\n",
    "# Plot a bar chart of the test allocation\n",
    "alloc.plot(kind = 'bar')\n",
    "plt.title('Personalization test allocation')\n",
    "plt.ylabel('# participants')\n",
    "plt.show()"
   ]
  },
  {
   "cell_type": "markdown",
   "metadata": {},
   "source": [
    "### Comparing conversion rates"
   ]
  },
  {
   "cell_type": "code",
   "execution_count": null,
   "metadata": {},
   "outputs": [],
   "source": [
    "# Group marketing by user_id and variant\n",
    "subscribers = email.groupby(['user_id', \n",
    "                             'variant']).converted.max()\n",
    "subscribers_df = pd.DataFrame(subscribers.unstack(level=1)) \n",
    "\n",
    "# Drop missing values from the control column\n",
    "control = subscribers_df.control.dropna()\n",
    "\n",
    "# Drop missing values from the personalization column\n",
    "personalization = subscribers_df.personalization.dropna()\n",
    "\n",
    "print('Control conversion rate:', control.mean())\n",
    "print('Personalization conversion rate:', personalization.mean())"
   ]
  },
  {
   "cell_type": "markdown",
   "metadata": {},
   "source": [
    "### Creating a lift function"
   ]
  },
  {
   "cell_type": "code",
   "execution_count": null,
   "metadata": {},
   "outputs": [],
   "source": [
    "def lift(a,b):\n",
    "    # Calcuate the mean of a and b\n",
    "    a_mean = np.mean(a)\n",
    "    b_mean = np.mean(b)\n",
    "    \n",
    "    # Calculate the lift using a_mean and b_mean\n",
    "    lift = (b_mean  - a_mean)/ a_mean\n",
    "  \n",
    "    return str(round(lift*100, 2)) + '%'\n",
    "  \n",
    "# Print lift() with control and personalization as inputs\n",
    "print(lift(control, personalization))"
   ]
  },
  {
   "cell_type": "markdown",
   "metadata": {},
   "source": [
    "### Evaluating statistical significance"
   ]
  },
  {
   "cell_type": "code",
   "execution_count": null,
   "metadata": {},
   "outputs": [],
   "source": [
    "stats.ttest_ind(control, personalization)"
   ]
  },
  {
   "cell_type": "markdown",
   "metadata": {},
   "source": [
    "### Building an A/B test segmenting function"
   ]
  },
  {
   "cell_type": "code",
   "execution_count": null,
   "metadata": {},
   "outputs": [],
   "source": [
    "def ab_segmentation(segment):\n",
    "  # Build a for loop for each subsegment in marketing\n",
    "    for subsegment in segment:\n",
    "        print(subsegment)\n",
    "      \n",
    "        # Limit marketing to email and subsegment\n",
    "        email = marketing[(marketing['marketing_channel'] == 'Email') & (marketing[segment] == subsegment)]\n",
    "\n",
    "        subscribers = email.groupby(['user_id', 'variant'])['converted'].max()\n",
    "        subscribers = pd.DataFrame(subscribers.unstack(level=1)) \n",
    "        control = subscribers['control'].dropna()\n",
    "        personalization = subscribers['personalization'].dropna()\n",
    "\n",
    "        print('lift:', lift(control - personalization)) \n",
    "        print('t-statistic:', stats.ttest_ind, '\\n\\n')"
   ]
  },
  {
   "cell_type": "code",
   "execution_count": null,
   "metadata": {},
   "outputs": [],
   "source": [
    "def ab_segmentation(segment):\n",
    "  # Build a for loop for each segment in marketing\n",
    "    for subsegment in np.unique(marketing[segment].values):\n",
    "        print(subsegment)   \n",
    "            \n",
    "        # Limit marketing to email and subsegment      \n",
    "        email = marketing[(marketing['marketing_channel'] == 'Email') & (marketing[segment] == subsegment)]\n",
    "        subscribers = email.groupby(['user_id', 'variant'])['converted'].max()\n",
    "        subscribers = pd.DataFrame(subscribers.unstack(level=1)) \n",
    "        control = subscribers['control'].dropna()\n",
    "        personalization = subscribers['personalization'].dropna()\n",
    "\n",
    "        print('lift:', lift(control, personalization))\n",
    "        print('t-statistic:', stats.ttest_ind(control, personalization), '\\n\\n')"
   ]
  },
  {
   "cell_type": "markdown",
   "metadata": {},
   "source": [
    "### Using your segmentation function"
   ]
  },
  {
   "cell_type": "code",
   "execution_count": null,
   "metadata": {},
   "outputs": [],
   "source": [
    "# Use ab_segmentation on language displayed\n",
    "ab_segmentation('language_displayed')"
   ]
  },
  {
   "cell_type": "code",
   "execution_count": null,
   "metadata": {},
   "outputs": [],
   "source": [
    "# Use ab_segmentation on age group\n",
    "ab_segmentation('age_group')"
   ]
  }
 ],
 "metadata": {
  "kernelspec": {
   "display_name": "Python 3",
   "language": "python",
   "name": "python3"
  },
  "language_info": {
   "codemirror_mode": {
    "name": "ipython",
    "version": 3
   },
   "file_extension": ".py",
   "mimetype": "text/x-python",
   "name": "python",
   "nbconvert_exporter": "python",
   "pygments_lexer": "ipython3",
   "version": "3.6.6"
  }
 },
 "nbformat": 4,
 "nbformat_minor": 2
}
